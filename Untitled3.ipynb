{
  "nbformat": 4,
  "nbformat_minor": 0,
  "metadata": {
    "colab": {
      "name": "Untitled3.ipynb",
      "provenance": [],
      "collapsed_sections": []
    },
    "kernelspec": {
      "name": "python3",
      "display_name": "Python 3"
    },
    "language_info": {
      "name": "python"
    }
  },
  "cells": [
    {
      "cell_type": "code",
      "metadata": {
        "id": "J3-9o94a2o_8",
        "colab": {
          "base_uri": "https://localhost:8080/"
        },
        "outputId": "125ac18a-6fd1-40ca-f316-3dd37fbee673"
      },
      "source": [
        "def maximum(a, b, c):\n",
        "  \n",
        "    if (a >= b) and (a >= c):\n",
        "        largest = a+b\n",
        "  \n",
        "    elif (b >= a) and (b >= c):\n",
        "        largest = a+b\n",
        "    else:\n",
        "        largest = a+c\n",
        "        return largest\n",
        "a = 9\n",
        "b = 20\n",
        "c = 35\n",
        "print(maximum(a, b, c))"
      ],
      "execution_count": 6,
      "outputs": [
        {
          "output_type": "stream",
          "text": [
            "44\n"
          ],
          "name": "stdout"
        }
      ]
    },
    {
      "cell_type": "code",
      "metadata": {
        "id": "8OH60e1-Bain",
        "colab": {
          "base_uri": "https://localhost:8080/"
        },
        "outputId": "0c2bd31b-5bcd-4c09-d1d9-8b60000a342b"
      },
      "source": [
        "def calculation(a, b):\n",
        "    return a+b, a-b\n",
        "res = calculation(40, 10)\n",
        "print(res)\n"
      ],
      "execution_count": null,
      "outputs": [
        {
          "output_type": "stream",
          "text": [
            "(50, 30)\n"
          ],
          "name": "stdout"
        }
      ]
    },
    {
      "cell_type": "code",
      "metadata": {
        "colab": {
          "base_uri": "https://localhost:8080/"
        },
        "id": "ZIvHWOfMDop8",
        "outputId": "cc363913-d348-4671-e042-61083c1b3494"
      },
      "source": [
        "def multiplyList(myList) :\n",
        "    result = 1\n",
        "    for x in myList:\n",
        "         result = result * x\n",
        "    return result\n",
        "list1 = [0,2,4]\n",
        "list2 = [3, 2, 4]\n",
        "print(multiplyList(list1))\n",
        "print(multiplyList(list2))\n"
      ],
      "execution_count": null,
      "outputs": [
        {
          "output_type": "stream",
          "text": [
            "0\n",
            "24\n"
          ],
          "name": "stdout"
        }
      ]
    },
    {
      "cell_type": "code",
      "metadata": {
        "colab": {
          "base_uri": "https://localhost:8080/"
        },
        "id": "PqQUKgeYIxir",
        "outputId": "080bf6bb-5153-4270-a2e1-d1352ebe0a52"
      },
      "source": [
        "words = [w for w in input(\"words: \").split(\"-\")]\n",
        "words.sort()\n",
        "print(\"-\".join(words))"
      ],
      "execution_count": 5,
      "outputs": [
        {
          "output_type": "stream",
          "text": [
            "words: green-red-yellow-black-white\n",
            "black-green-red-white-yellow\n"
          ],
          "name": "stdout"
        }
      ]
    },
    {
      "cell_type": "code",
      "metadata": {
        "colab": {
          "base_uri": "https://localhost:8080/"
        },
        "id": "za3O8G6HL186",
        "outputId": "5723e8af-9b4f-4fec-b1a7-6045e647b905"
      },
      "source": [
        "import math\n",
        "numbers = input(\"Provide D: \")\n",
        "numbers = numbers.split(',')\n",
        "result_list = []\n",
        "for D in numbers:\n",
        "    Q = round(math.sqrt(2 * 50 * int(D) / 30))\n",
        "    result_list.append(Q)\n",
        "print(result_list)"
      ],
      "execution_count": 9,
      "outputs": [
        {
          "output_type": "stream",
          "text": [
            "Provide D: 100,150,180\n",
            "[18, 22, 24]\n"
          ],
          "name": "stdout"
        }
      ]
    }
  ]
}